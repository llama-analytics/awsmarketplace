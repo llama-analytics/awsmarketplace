{
 "cells": [
  {
   "cell_type": "markdown",
   "id": "3efbeec5",
   "metadata": {},
   "source": [
    "# Example creating a Bitcoin signal\n",
    "\n",
    "In this blog we will be extending the work done previously and creating a bitcoin signal for a future 10 minute price. We will be calling two models one which forecasts the price and one which shows a forecast of the trend. These models we will call from AWS Marketplace. What you will need to run this article:-\n",
    "\n",
    "* an AWS account\n",
    "* subscibe to the models\n",
    "* reasonable Python skills\n",
    "\n",
    "## Let us remember what we did in the last article\n",
    "\n",
    "In the last article we wrote a function called Get_Smush that retrieved a large series of data we will need that again, you can download the code from the GIT repo. First we'll import a few packages some which are related to AWS and Sagemaker which is the delivery method."
   ]
  },
  {
   "cell_type": "code",
   "execution_count": 28,
   "id": "bc6e1676",
   "metadata": {},
   "outputs": [],
   "source": [
    "import pandas as pd\n",
    "import json\n",
    "import csv\n",
    "import ssl \n",
    "import requests\n",
    "import sagemaker\n",
    "import os\n",
    "import boto3\n",
    "import matplotlib.pyplot as plt\n",
    "import seaborn as sns\n",
    "import datetime"
   ]
  },
  {
   "cell_type": "code",
   "execution_count": 4,
   "id": "d9a70e7f",
   "metadata": {},
   "outputs": [],
   "source": [
    "def GetData_Smush():\n",
    "    ## get data from cryptodownload \n",
    "    data_location = 'https://www.cryptodatadownload.com/cdd/Bitstamp_BTCUSD_minute.csv'\n",
    "    ssl._create_default_https_context = ssl._create_unverified_context\n",
    "    hist_data = pd.read_csv(data_location, skiprows=1)\n",
    "\n",
    "    ## get latest data from bitstamp public API\n",
    "    json_location=f'https://www.bitstamp.net/api/v2/ohlc/btcusd/?limit=1000&step=60'\n",
    "    response =  requests.get(json_location)\n",
    "    ld = json.loads(response.text)\n",
    "    df = ld['data']['ohlc']\n",
    "    latest_data = pd.DataFrame(df, columns=['high', 'timestamp', 'volume', 'low', 'close', 'open']) \n",
    "\n",
    "    latest_data['date'] = pd.to_datetime(latest_data['timestamp'], unit='s')\n",
    "    latest_data['volume'] = pd.to_numeric(latest_data['volume'], errors='coerce')\n",
    "    latest_data['close'] = pd.to_numeric(latest_data['close'], errors='coerce')\n",
    "    latest_data['Volume_Currency'] = latest_data['volume']*latest_data['close'] \n",
    "\n",
    "    latest_data.columns = ['High', 'unix', 'Volume_BTC', 'Low', 'Close', 'Open', 'date', 'Volume_Currency']\n",
    "\n",
    "            \n",
    "    # re-arrange data\n",
    "    dp1 = hist_data.head(20160)\n",
    "    dp1 = dp1.drop('symbol', axis = 1)\n",
    "    dp1.columns = ['unix','date','Open','High','Low','Close','Volume_BTC','Volume_Currency']\n",
    "    row1 = latest_data.head(100)\n",
    "\n",
    "\n",
    "    detail = int(row1.iloc[0]['unix'])\n",
    "    dat = dp1.loc[dp1['unix'] < detail]\n",
    "    dat = dat.iloc[::-1]\n",
    "    latest_data = latest_data[['unix','date','Open','High','Low', 'Close', 'Volume_BTC', 'Volume_Currency']]\n",
    "\n",
    "\n",
    "\n",
    "    dat= dat.append(latest_data)\n",
    "    dat = dat.tail(20160)\n",
    "    dat['High'] = pd.to_numeric(dat['High'], errors='coerce')\n",
    "    dat['Low'] = pd.to_numeric(dat['Low'], errors='coerce')\n",
    "    dat['Weighted_Price'] = (dat['High']+dat['Low'])/2\n",
    "    \n",
    "    dat = dat[['unix','date','Open','High','Low', 'Close', 'Weighted_Price','Volume_BTC', 'Volume_Currency']]\n",
    "\n",
    "    ## return data\n",
    "    return dat\n"
   ]
  },
  {
   "cell_type": "markdown",
   "id": "f30357f4",
   "metadata": {},
   "source": [
    "## We create a new function\n",
    "\n",
    "We create a function that will also call only the latest datapoint and add it on to our previous series we do this so that we do not hit the limits of the exchange website for calling free data."
   ]
  },
  {
   "cell_type": "code",
   "execution_count": 5,
   "id": "56bf62de",
   "metadata": {},
   "outputs": [],
   "source": [
    "# get it for one data point\n",
    "def GetOnePoint(smush):\n",
    "    json_location=f'https://www.bitstamp.net/api/v2/ohlc/btcusd/?limit=1&step=60'\n",
    "    response =  requests.get(json_location)\n",
    "    ld = json.loads(response.text)\n",
    "    df = ld['data']['ohlc']\n",
    "    latest_data = pd.DataFrame(df, columns=['high', 'timestamp', 'volume', 'low', 'close', 'open']) \n",
    "    latest_data['date'] = pd.to_datetime(latest_data['timestamp'], unit='s')\n",
    "    latest_data['volume'] = pd.to_numeric(latest_data['volume'], errors='coerce')\n",
    "    latest_data['close'] = pd.to_numeric(latest_data['close'], errors='coerce')\n",
    "    latest_data['Volume_Currency'] = latest_data['volume']*latest_data['close']\n",
    "    latest_data.columns = ['High', 'unix', 'Volume_BTC', 'Low', 'Close', 'Open', 'date', 'Volume_Currency']\n",
    "    latest_data['High'] = pd.to_numeric(latest_data['High'], errors='coerce')\n",
    "    latest_data['Low'] = pd.to_numeric(latest_data['Low'], errors='coerce')\n",
    " \n",
    "    latest_data['Weighted_Price'] = (latest_data['High']+latest_data['Low'])/2\n",
    "    latest_data.columns = ['High', 'unix', 'Volume_BTC', 'Low', 'Close', 'Open', 'date', 'Volume_Currency','Weighted_Price']\n",
    "    latest_data = latest_data[['unix','date','Open','High','Low', 'Close','Weighted_Price', 'Volume_BTC', 'Volume_Currency']]\n",
    "    \n",
    "    dat= smush.append(latest_data)\n",
    "    dat = dat.tail(20160)\n",
    "    return dat"
   ]
  },
  {
   "cell_type": "markdown",
   "id": "7e9952bb",
   "metadata": {},
   "source": [
    "## Create the models \n",
    "\n",
    "Now lets create the models:-\n",
    "\n",
    "* The first model will predict the trend. In this case we will use the model predict10trend.\n",
    "* The second model will predict the actual price. This model will be BitcoinPredict10.\n",
    "\n",
    "We will then combine these models to give a future signal that can be used to take a trading position."
   ]
  },
  {
   "cell_type": "code",
   "execution_count": 15,
   "id": "bcf927d7",
   "metadata": {},
   "outputs": [],
   "source": [
    "#The trend model predict10trend\n",
    "\n",
    "content_type='text/csv'\n",
    "model_name='predict10trend-copy-04-24-copy-04-24'\n",
    "real_time_inference_instance_type='ml.m5.large'\n",
    "\n",
    "# Please use the appropriate ARN obtained after subscribing to the model to define 'model_package_arn'\n",
    "model_package_arn = 'arn:aws:sagemaker:eu-west-x:xxxxxxx:model-package/predict10trend-copy-04-24-copy-04-24'\n",
    "\n",
    "from sagemaker import ModelPackage\n",
    "import sagemaker as sage\n",
    "from sagemaker import get_execution_role\n",
    "\n",
    "role = get_execution_role()\n",
    "sagemaker_session = sage.Session()\n",
    "\n",
    "#Define predictor wrapper class\n",
    "def predict_wrapper(endpoint, session):\n",
    "    return sage.predictor.Predictor(endpoint, session,content_type=content_type)\n",
    "#create a deployable model from the model package.\n",
    "model = ModelPackage(role=role,\n",
    "                    model_package_arn=model_package_arn,\n",
    "                    sagemaker_session=sagemaker_session,\n",
    "                    predictor_cls=predict_wrapper)"
   ]
  },
  {
   "cell_type": "code",
   "execution_count": 16,
   "id": "c0d133a8",
   "metadata": {},
   "outputs": [
    {
     "name": "stdout",
     "output_type": "stream",
     "text": [
      "-----------------!"
     ]
    },
    {
     "name": "stderr",
     "output_type": "stream",
     "text": [
      "content_type is a no-op in sagemaker>=2.\n",
      "See: https://sagemaker.readthedocs.io/en/stable/v2.html for details.\n"
     ]
    }
   ],
   "source": [
    " trend = model.deploy(1, real_time_inference_instance_type, endpoint_name=model_name)"
   ]
  },
  {
   "cell_type": "code",
   "execution_count": 21,
   "id": "aa5cfcb5",
   "metadata": {},
   "outputs": [],
   "source": [
    "#The prediction model bitcoinpredict10\n",
    "\n",
    "content_type='text/csv'\n",
    "model_name='bitcoinpredict10'\n",
    "real_time_inference_instance_type='ml.m5.large'\n",
    "\n",
    "# Please use the appropriate ARN obtained after subscribing to the model to define 'model_package_arn'\n",
    "model_package_arn = 'arn:aws:sagemaker:eu-west-x:xxxxxxx:model-package/bitcoinpredict10'\n",
    "\n",
    "from sagemaker import ModelPackage\n",
    "import sagemaker as sage\n",
    "from sagemaker import get_execution_role\n",
    "\n",
    "role = get_execution_role()\n",
    "sagemaker_session = sage.Session()\n",
    "\n",
    "#Define predictor wrapper class\n",
    "def predict_wrapper(endpoint, session):\n",
    "    return sage.predictor.Predictor(endpoint, session,content_type=content_type)\n",
    "#create a deployable model from the model package.\n",
    "model = ModelPackage(role=role,\n",
    "                    model_package_arn=model_package_arn,\n",
    "                    sagemaker_session=sagemaker_session,\n",
    "                    predictor_cls=predict_wrapper)"
   ]
  },
  {
   "cell_type": "code",
   "execution_count": 22,
   "id": "6c923b7c",
   "metadata": {},
   "outputs": [
    {
     "name": "stdout",
     "output_type": "stream",
     "text": [
      "-----------------!"
     ]
    },
    {
     "name": "stderr",
     "output_type": "stream",
     "text": [
      "content_type is a no-op in sagemaker>=2.\n",
      "See: https://sagemaker.readthedocs.io/en/stable/v2.html for details.\n"
     ]
    }
   ],
   "source": [
    " predictor = model.deploy(1, real_time_inference_instance_type, endpoint_name=model_name)"
   ]
  },
  {
   "cell_type": "markdown",
   "id": "798f9b9a",
   "metadata": {},
   "source": [
    "## Let's create a buy/sell signal\n",
    "\n",
    "First we will create a function that will tell us when the predicted price will be above the trend accounting for a strike percentage in this case 5% to capture price moves throughout the day that are above minimum 0.5% (most exchanges trading fee). Finally the ifelse statements will tell us if we should possibly buy/sell. Please remember this is an example."
   ]
  },
  {
   "cell_type": "code",
   "execution_count": 23,
   "id": "28b7aaa9",
   "metadata": {},
   "outputs": [],
   "source": [
    "def signal(pre, tren, strike):\n",
    "    strikepriceplus = 1+strike\n",
    "    strikepriceneg = 1-strike\n",
    "    \n",
    "    if (tren*strikepriceplus < pre):\n",
    "        passback = 'sell'\n",
    "    elif (tren*strikepriceneg > pre):\n",
    "        passback = 'buy'\n",
    "    else:\n",
    "        passback = 'hold'\n",
    "    \n",
    "    \n",
    "    return passback"
   ]
  },
  {
   "cell_type": "code",
   "execution_count": 35,
   "id": "6a3362cd",
   "metadata": {},
   "outputs": [],
   "source": [
    "# get data for model\n",
    "capture = GetData_Smush()\n",
    "# data wrangling\n",
    "capture = capture.drop(['unix','date'], axis=1)\n",
    "capture = capture[['High','Open','Low','Close','Weighted_Price','Volume_BTC','Volume_Currency']]\n",
    "capture2 = capture.to_csv(index=False)\n",
    "\n",
    "# call prediction model\n",
    "prd = predictor.predict(capture2)\n",
    "\n",
    "# call trend model\n",
    "trd = trend.predict(capture2)"
   ]
  },
  {
   "cell_type": "code",
   "execution_count": 30,
   "id": "85552926",
   "metadata": {},
   "outputs": [],
   "source": [
    "def getvaluecrecord(prediction):\n",
    "    s=str(prediction,'utf-8')\n",
    "    prediction =s.split(\":\")\n",
    "    prediction = prediction[1]\n",
    "    prediction = prediction.split(\",\")\n",
    "    prediction = prediction[0]\n",
    "    prediction = float(prediction)\n",
    "    return prediction\n"
   ]
  },
  {
   "cell_type": "code",
   "execution_count": 36,
   "id": "d0104360",
   "metadata": {},
   "outputs": [],
   "source": [
    "prd = getvaluecrecord(prd)\n",
    "trd =getvaluecrecord(trd)"
   ]
  },
  {
   "cell_type": "code",
   "execution_count": 37,
   "id": "711c4115",
   "metadata": {},
   "outputs": [
    {
     "name": "stdout",
     "output_type": "stream",
     "text": [
      "trend = 57927.529700 and prediction= 58958.154700\n"
     ]
    }
   ],
   "source": [
    "print('trend = %f and prediction= %f'%(trd,prd))"
   ]
  },
  {
   "cell_type": "code",
   "execution_count": 38,
   "id": "2ecc39cb",
   "metadata": {},
   "outputs": [],
   "source": [
    "sig = signal(prd, trd, 0.05)"
   ]
  },
  {
   "cell_type": "code",
   "execution_count": 39,
   "id": "ead87288",
   "metadata": {},
   "outputs": [
    {
     "data": {
      "text/plain": [
       "'hold'"
      ]
     },
     "execution_count": 39,
     "metadata": {},
     "output_type": "execute_result"
    }
   ],
   "source": [
    "sig"
   ]
  },
  {
   "cell_type": "code",
   "execution_count": 40,
   "id": "c425e406",
   "metadata": {},
   "outputs": [],
   "source": [
    "newdata = GetOnePoint(capture)\n",
    "newdata = newdata.drop(['unix','date'], axis=1)\n",
    "newdata = newdata[['High','Open','Low','Close','Weighted_Price','Volume_BTC','Volume_Currency']]\n",
    "newdata = newdata.to_csv(index=False)"
   ]
  },
  {
   "cell_type": "code",
   "execution_count": 41,
   "id": "fe671628",
   "metadata": {},
   "outputs": [
    {
     "data": {
      "text/plain": [
       "'hold'"
      ]
     },
     "execution_count": 41,
     "metadata": {},
     "output_type": "execute_result"
    }
   ],
   "source": [
    "# call prediction model\n",
    "prd = predictor.predict(newdata)\n",
    "# call trend model\n",
    "trd = trend.predict(newdata)\n",
    "\n",
    "prd = getvaluecrecord(prd)\n",
    "trd =getvaluecrecord(trd)\n",
    "\n",
    "sig = signal(prd, trd, 0.05)\n",
    "sig"
   ]
  },
  {
   "cell_type": "code",
   "execution_count": 42,
   "id": "73a2c915",
   "metadata": {},
   "outputs": [
    {
     "name": "stdout",
     "output_type": "stream",
     "text": [
      "trend = 57936.215500 and prediction= 58918.503400\n"
     ]
    }
   ],
   "source": [
    "print('trend = %f and prediction= %f'%(trd,prd))"
   ]
  },
  {
   "cell_type": "code",
   "execution_count": null,
   "id": "fd040eb5",
   "metadata": {},
   "outputs": [],
   "source": []
  }
 ],
 "metadata": {
  "kernelspec": {
   "display_name": "conda_python3",
   "language": "python",
   "name": "conda_python3"
  },
  "language_info": {
   "codemirror_mode": {
    "name": "ipython",
    "version": 3
   },
   "file_extension": ".py",
   "mimetype": "text/x-python",
   "name": "python",
   "nbconvert_exporter": "python",
   "pygments_lexer": "ipython3",
   "version": "3.6.13"
  }
 },
 "nbformat": 4,
 "nbformat_minor": 5
}
